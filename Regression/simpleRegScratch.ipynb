{
 "cells": [
  {
   "cell_type": "code",
   "execution_count": 1,
   "id": "3b2c3fbc",
   "metadata": {},
   "outputs": [],
   "source": [
    "import numpy as np\n",
    "\n",
    "x = np.linspace(-10, 10, 100)\n",
    "y = x ** 2 + 5 * x + 9.5\n",
    "noise = np.random.normal(0, 0.2, x.size)\n",
    "y += noise"
   ]
  },
  {
   "cell_type": "code",
   "execution_count": 2,
   "id": "cd8e0a05",
   "metadata": {},
   "outputs": [
    {
     "name": "stdout",
     "output_type": "stream",
     "text": [
      "[9.50246578 5.00684107 0.99936486]\n"
     ]
    }
   ],
   "source": [
    "X = np.vander(x, 3, increasing=True)\n",
    "w = np.linalg.lstsq(X, y, rcond=False)[0]\n",
    "print(w)"
   ]
  },
  {
   "cell_type": "code",
   "execution_count": 12,
   "id": "596943e3",
   "metadata": {},
   "outputs": [
    {
     "name": "stdout",
     "output_type": "stream",
     "text": [
      "(200, 6)\n",
      "[ 0.07738722 -0.31264442  0.7568128   0.07738722  0.46122777  2.24264629]\n"
     ]
    }
   ],
   "source": [
    "x1 = np.linspace(-10, 10, 200)\n",
    "x2 = np.linspace(0, 20, 200)\n",
    "y = x1 ** 2 + 2* x2 ** 2 + 3*x1 + 2*x2 + 9\n",
    "\n",
    "X = np.concatenate((np.vander(x1, 3, increasing=True) , np.vander(x2, 3, increasing=True)), axis=1)\n",
    "noise = np.random.normal(0, 0.2, 200)\n",
    "y += noise\n",
    "\n",
    "print(X.shape)\n",
    "w = np.linalg.lstsq(X, y, rcond=False)[0]\n",
    "print(w)"
   ]
  },
  {
   "cell_type": "code",
   "execution_count": null,
   "id": "73a4b748",
   "metadata": {},
   "outputs": [],
   "source": []
  }
 ],
 "metadata": {
  "kernelspec": {
   "display_name": "Python 3",
   "language": "python",
   "name": "python3"
  },
  "language_info": {
   "codemirror_mode": {
    "name": "ipython",
    "version": 3
   },
   "file_extension": ".py",
   "mimetype": "text/x-python",
   "name": "python",
   "nbconvert_exporter": "python",
   "pygments_lexer": "ipython3",
   "version": "3.11.4"
  }
 },
 "nbformat": 4,
 "nbformat_minor": 5
}
